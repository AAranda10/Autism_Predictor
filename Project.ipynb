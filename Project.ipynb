{
 "cells": [
  {
   "cell_type": "code",
   "execution_count": 1,
   "metadata": {},
   "outputs": [],
   "source": [
    "import matplotlib.pyplot as plt\n",
    "import seaborn as sns\n",
    "\n",
    "import pandas as pd\n",
    "import numpy as np\n",
    "import matplotlib.pyplot as plt\n",
    "import seaborn as sns\n",
    "\n",
    "import warnings\n",
    "warnings.filterwarnings(\"ignore\")\n",
    "\n",
    "pd.set_option('display.max_columns', None)\n",
    "\n",
    "import prep"
   ]
  },
  {
   "cell_type": "code",
   "execution_count": 2,
   "metadata": {},
   "outputs": [],
   "source": [
    "df = prep.prep_asd_data()"
   ]
  },
  {
   "cell_type": "code",
   "execution_count": 3,
   "metadata": {
    "scrolled": true
   },
   "outputs": [
    {
     "data": {
      "text/html": [
       "<div>\n",
       "<style scoped>\n",
       "    .dataframe tbody tr th:only-of-type {\n",
       "        vertical-align: middle;\n",
       "    }\n",
       "\n",
       "    .dataframe tbody tr th {\n",
       "        vertical-align: top;\n",
       "    }\n",
       "\n",
       "    .dataframe thead th {\n",
       "        text-align: right;\n",
       "    }\n",
       "</style>\n",
       "<table border=\"1\" class=\"dataframe\">\n",
       "  <thead>\n",
       "    <tr style=\"text-align: right;\">\n",
       "      <th></th>\n",
       "      <th>case_no</th>\n",
       "      <th>a1</th>\n",
       "      <th>a2</th>\n",
       "      <th>a3</th>\n",
       "      <th>a4</th>\n",
       "      <th>a5</th>\n",
       "      <th>a6</th>\n",
       "      <th>a7</th>\n",
       "      <th>a8</th>\n",
       "      <th>a9</th>\n",
       "      <th>a10</th>\n",
       "      <th>age_mons</th>\n",
       "      <th>survey_score</th>\n",
       "      <th>ethnicity</th>\n",
       "      <th>whocompletedthetest</th>\n",
       "      <th>is_male</th>\n",
       "      <th>has_jaundice</th>\n",
       "      <th>has_fam_history</th>\n",
       "      <th>has_asd</th>\n",
       "      <th>is_white</th>\n",
       "      <th>is_hispanic</th>\n",
       "      <th>is_black</th>\n",
       "      <th>is_asian</th>\n",
       "      <th>is_middle_eastern</th>\n",
       "      <th>is_other</th>\n",
       "    </tr>\n",
       "  </thead>\n",
       "  <tbody>\n",
       "    <tr>\n",
       "      <th>0</th>\n",
       "      <td>1</td>\n",
       "      <td>0</td>\n",
       "      <td>0</td>\n",
       "      <td>0</td>\n",
       "      <td>0</td>\n",
       "      <td>0</td>\n",
       "      <td>0</td>\n",
       "      <td>1</td>\n",
       "      <td>1</td>\n",
       "      <td>0</td>\n",
       "      <td>1</td>\n",
       "      <td>28</td>\n",
       "      <td>3</td>\n",
       "      <td>middle eastern</td>\n",
       "      <td>family member</td>\n",
       "      <td>0</td>\n",
       "      <td>1</td>\n",
       "      <td>0</td>\n",
       "      <td>0</td>\n",
       "      <td>0</td>\n",
       "      <td>0</td>\n",
       "      <td>0</td>\n",
       "      <td>0</td>\n",
       "      <td>1</td>\n",
       "      <td>0</td>\n",
       "    </tr>\n",
       "    <tr>\n",
       "      <th>1</th>\n",
       "      <td>2</td>\n",
       "      <td>1</td>\n",
       "      <td>1</td>\n",
       "      <td>0</td>\n",
       "      <td>0</td>\n",
       "      <td>0</td>\n",
       "      <td>1</td>\n",
       "      <td>1</td>\n",
       "      <td>0</td>\n",
       "      <td>0</td>\n",
       "      <td>0</td>\n",
       "      <td>36</td>\n",
       "      <td>4</td>\n",
       "      <td>White European</td>\n",
       "      <td>family member</td>\n",
       "      <td>1</td>\n",
       "      <td>1</td>\n",
       "      <td>0</td>\n",
       "      <td>1</td>\n",
       "      <td>1</td>\n",
       "      <td>0</td>\n",
       "      <td>0</td>\n",
       "      <td>0</td>\n",
       "      <td>0</td>\n",
       "      <td>0</td>\n",
       "    </tr>\n",
       "    <tr>\n",
       "      <th>2</th>\n",
       "      <td>3</td>\n",
       "      <td>1</td>\n",
       "      <td>0</td>\n",
       "      <td>0</td>\n",
       "      <td>0</td>\n",
       "      <td>0</td>\n",
       "      <td>0</td>\n",
       "      <td>1</td>\n",
       "      <td>1</td>\n",
       "      <td>0</td>\n",
       "      <td>1</td>\n",
       "      <td>36</td>\n",
       "      <td>4</td>\n",
       "      <td>middle eastern</td>\n",
       "      <td>family member</td>\n",
       "      <td>1</td>\n",
       "      <td>1</td>\n",
       "      <td>0</td>\n",
       "      <td>1</td>\n",
       "      <td>0</td>\n",
       "      <td>0</td>\n",
       "      <td>0</td>\n",
       "      <td>0</td>\n",
       "      <td>1</td>\n",
       "      <td>0</td>\n",
       "    </tr>\n",
       "    <tr>\n",
       "      <th>3</th>\n",
       "      <td>4</td>\n",
       "      <td>1</td>\n",
       "      <td>1</td>\n",
       "      <td>1</td>\n",
       "      <td>1</td>\n",
       "      <td>1</td>\n",
       "      <td>1</td>\n",
       "      <td>1</td>\n",
       "      <td>1</td>\n",
       "      <td>1</td>\n",
       "      <td>1</td>\n",
       "      <td>24</td>\n",
       "      <td>10</td>\n",
       "      <td>Hispanic</td>\n",
       "      <td>family member</td>\n",
       "      <td>1</td>\n",
       "      <td>0</td>\n",
       "      <td>0</td>\n",
       "      <td>1</td>\n",
       "      <td>0</td>\n",
       "      <td>1</td>\n",
       "      <td>0</td>\n",
       "      <td>0</td>\n",
       "      <td>0</td>\n",
       "      <td>0</td>\n",
       "    </tr>\n",
       "    <tr>\n",
       "      <th>4</th>\n",
       "      <td>5</td>\n",
       "      <td>1</td>\n",
       "      <td>1</td>\n",
       "      <td>0</td>\n",
       "      <td>1</td>\n",
       "      <td>1</td>\n",
       "      <td>1</td>\n",
       "      <td>1</td>\n",
       "      <td>1</td>\n",
       "      <td>1</td>\n",
       "      <td>1</td>\n",
       "      <td>20</td>\n",
       "      <td>9</td>\n",
       "      <td>White European</td>\n",
       "      <td>family member</td>\n",
       "      <td>0</td>\n",
       "      <td>0</td>\n",
       "      <td>1</td>\n",
       "      <td>1</td>\n",
       "      <td>1</td>\n",
       "      <td>0</td>\n",
       "      <td>0</td>\n",
       "      <td>0</td>\n",
       "      <td>0</td>\n",
       "      <td>0</td>\n",
       "    </tr>\n",
       "  </tbody>\n",
       "</table>\n",
       "</div>"
      ],
      "text/plain": [
       "   case_no  a1  a2  a3  a4  a5  a6  a7  a8  a9  a10  age_mons  survey_score  \\\n",
       "0        1   0   0   0   0   0   0   1   1   0    1        28             3   \n",
       "1        2   1   1   0   0   0   1   1   0   0    0        36             4   \n",
       "2        3   1   0   0   0   0   0   1   1   0    1        36             4   \n",
       "3        4   1   1   1   1   1   1   1   1   1    1        24            10   \n",
       "4        5   1   1   0   1   1   1   1   1   1    1        20             9   \n",
       "\n",
       "        ethnicity whocompletedthetest  is_male  has_jaundice  has_fam_history  \\\n",
       "0  middle eastern       family member        0             1                0   \n",
       "1  White European       family member        1             1                0   \n",
       "2  middle eastern       family member        1             1                0   \n",
       "3        Hispanic       family member        1             0                0   \n",
       "4  White European       family member        0             0                1   \n",
       "\n",
       "   has_asd  is_white  is_hispanic  is_black  is_asian  is_middle_eastern  \\\n",
       "0        0         0            0         0         0                  1   \n",
       "1        1         1            0         0         0                  0   \n",
       "2        1         0            0         0         0                  1   \n",
       "3        1         0            1         0         0                  0   \n",
       "4        1         1            0         0         0                  0   \n",
       "\n",
       "   is_other  \n",
       "0         0  \n",
       "1         0  \n",
       "2         0  \n",
       "3         0  \n",
       "4         0  "
      ]
     },
     "execution_count": 3,
     "metadata": {},
     "output_type": "execute_result"
    }
   ],
   "source": [
    "df.head()"
   ]
  },
  {
   "cell_type": "code",
   "execution_count": 4,
   "metadata": {},
   "outputs": [
    {
     "data": {
      "text/plain": [
       "case_no                0\n",
       "a1                     0\n",
       "a2                     0\n",
       "a3                     0\n",
       "a4                     0\n",
       "a5                     0\n",
       "a6                     0\n",
       "a7                     0\n",
       "a8                     0\n",
       "a9                     0\n",
       "a10                    0\n",
       "age_mons               0\n",
       "survey_score           0\n",
       "ethnicity              0\n",
       "whocompletedthetest    0\n",
       "is_male                0\n",
       "has_jaundice           0\n",
       "has_fam_history        0\n",
       "has_asd                0\n",
       "is_white               0\n",
       "is_hispanic            0\n",
       "is_black               0\n",
       "is_asian               0\n",
       "is_middle_eastern      0\n",
       "is_other               0\n",
       "dtype: int64"
      ]
     },
     "execution_count": 4,
     "metadata": {},
     "output_type": "execute_result"
    }
   ],
   "source": [
    "df.isnull().sum()"
   ]
  },
  {
   "cell_type": "code",
   "execution_count": 52,
   "metadata": {},
   "outputs": [
    {
     "data": {
      "text/plain": [
       "(array([0.5, 1.5]), <a list of 2 Text major ticklabel objects>)"
      ]
     },
     "execution_count": 52,
     "metadata": {},
     "output_type": "execute_result"
    },
    {
     "data": {
      "image/png": "[encoded data removed]",
      "text/plain": [
       "<Figure size 432x288 with 1 Axes>"
      ]
     },
     "metadata": {
      "needs_background": "light"
     },
     "output_type": "display_data"
    }
   ],
   "source": [
    "df.has_asd.value_counts().sort_index().plot.bar()\n",
    "autism_rate = df.has_asd.mean()\n",
    "plt.title(f\"Overall Autism rate: {autism_rate:.0%}\")\n",
    "plt.xlabel('Autism')\n",
    "plt.xticks(locs, ('False', 'True'))\n",
    "plt.xticks(rotation = 0)"
   ]
  },
  {
   "cell_type": "code",
   "execution_count": 50,
   "metadata": {},
   "outputs": [
    {
     "data": {
      "image/png": "[encoded data removed]",
      "text/plain": [
       "<Figure size 1152x432 with 2 Axes>"
      ]
     },
     "metadata": {
      "needs_background": "light"
     },
     "output_type": "display_data"
    }
   ],
   "source": [
    "features = ['is_male', 'ethnicity']\n",
    "\n",
    "_, ax = plt.subplots(nrows=1, ncols=2, figsize=(16, 6), sharey=True)\n",
    "for i, feature in enumerate(features):\n",
    "    sns.barplot(feature, 'has_asd', data=df, ax=ax[i], alpha=.8)\n",
    "    ax[i].set_xlabel('')\n",
    "    ax[i].set_ylabel('Autism Rate')\n",
    "    ax[i].set_title(feature)\n",
    "    ax[i].axhline(autism_rate, ls='--', color='grey')\n",
    "    plt.xticks(rotation = 90)"
   ]
  },
  {
   "cell_type": "code",
   "execution_count": 7,
   "metadata": {},
   "outputs": [
    {
     "data": {
      "text/plain": [
       "Text(0.5, 15.0, '')"
      ]
     },
     "execution_count": 7,
     "metadata": {},
     "output_type": "execute_result"
    },
    {
     "data": {
      "image/png": "[encoded data removed]",
      "text/plain": [
       "<Figure size 432x288 with 2 Axes>"
      ]
     },
     "metadata": {
      "needs_background": "light"
     },
     "output_type": "display_data"
    }
   ],
   "source": [
    "crosstab = pd.crosstab(df.has_asd, df.has_fam_history)\n",
    "sns.heatmap(crosstab, annot= True, cmap= 'Reds', fmt= 'd')\n",
    "\n",
    "plt.title('Toddlers By Family History')\n",
    "locs, labels = plt.yticks()\n",
    "plt.yticks(locs, ('Not Autistic', 'Autistic'))\n",
    "plt.xticks(locs, ('No Family History', 'Has Family History'))\n",
    "plt.ylabel('')\n",
    "plt.xlabel('')"
   ]
  },
  {
   "cell_type": "code",
   "execution_count": 33,
   "metadata": {},
   "outputs": [
    {
     "data": {
      "text/plain": [
       "Text(33.0, 0.5, '')"
      ]
     },
     "execution_count": 33,
     "metadata": {},
     "output_type": "execute_result"
    },
    {
     "data": {
      "image/png": "[encoded data removed]",
      "text/plain": [
       "<Figure size 432x288 with 2 Axes>"
      ]
     },
     "metadata": {
      "needs_background": "light"
     },
     "output_type": "display_data"
    }
   ],
   "source": [
    "crosstab = pd.crosstab(df.has_asd, df.has_jaundice)\n",
    "sns.heatmap(crosstab, annot= True, cmap= 'Blues', fmt= 'd')\n",
    "\n",
    "plt.title('Toddlers By Jaundice')\n",
    "locs, labels = plt.yticks()\n",
    "plt.yticks(locs, ('Not Autistic', 'Autistic'))\n",
    "plt.xticks(locs, ('False', 'True'))\n",
    "plt.ylabel('')"
   ]
  },
  {
   "cell_type": "code",
   "execution_count": 35,
   "metadata": {},
   "outputs": [
    {
     "data": {
      "text/plain": [
       "Text(33.0, 0.5, '')"
      ]
     },
     "execution_count": 35,
     "metadata": {},
     "output_type": "execute_result"
    },
    {
     "data": {
      "image/png": "[encoded data removed]",
      "text/plain": [
       "<Figure size 432x288 with 2 Axes>"
      ]
     },
     "metadata": {
      "needs_background": "light"
     },
     "output_type": "display_data"
    }
   ],
   "source": [
    "crosstab = pd.crosstab(df.has_asd, df.survey_score)\n",
    "sns.heatmap(crosstab, annot= True, cmap= 'Greens', fmt= 'd')\n",
    "\n",
    "plt.title('Toddlers By Survey Score')\n",
    "locs, labels = plt.yticks()\n",
    "plt.yticks(locs, ('Not Autistic', 'Autistic'))\n",
    "plt.xlabel('Survey Score')\n",
    "plt.ylabel('')"
   ]
  },
  {
   "cell_type": "code",
   "execution_count": 62,
   "metadata": {},
   "outputs": [
    {
     "name": "stdout",
     "output_type": "stream",
     "text": [
      "Comparing If Certain Questions Are More Correlated To Autism\n"
     ]
    },
    {
     "data": {
      "image/png": "[encoded data removed]",
      "text/plain": [
       "<Figure size 1440x288 with 10 Axes>"
      ]
     },
     "metadata": {
      "needs_background": "light"
     },
     "output_type": "display_data"
    }
   ],
   "source": [
    "features = ['a1', 'a2', 'a3', 'a4', 'a5', 'a6', 'a7', 'a8', 'a9', 'a10']\n",
    "\n",
    "_, ax = plt.subplots(nrows=1, ncols=10, figsize=(20, 4), sharey=True)\n",
    "for i, feature in enumerate(features):\n",
    "    sns.barplot(feature, 'has_asd', data=df, ax=ax[i], alpha=.8)\n",
    "    ax[i].set_xlabel('')\n",
    "    ax[i].set_ylabel('Autism Rate')\n",
    "    ax[i].set_title(feature)\n",
    "    ax[i].axhline(autism_rate, ls='--', color='grey')\n",
    "print('Comparing If Certain Questions Are More Correlated To Autism')"
   ]
  },
  {
   "cell_type": "code",
   "execution_count": null,
   "metadata": {},
   "outputs": [],
   "source": []
  }
 ],
 "metadata": {
  "kernelspec": {
   "display_name": "Python 3",
   "language": "python",
   "name": "python3"
  },
  "language_info": {
   "codemirror_mode": {
    "name": "ipython",
    "version": 3
   },
   "file_extension": ".py",
   "mimetype": "text/x-python",
   "name": "python",
   "nbconvert_exporter": "python",
   "pygments_lexer": "ipython3",
   "version": "3.8.3"
  }
 },
 "nbformat": 4,
 "nbformat_minor": 4
}
